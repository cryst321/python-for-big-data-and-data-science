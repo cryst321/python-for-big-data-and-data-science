{
  "nbformat": 4,
  "nbformat_minor": 0,
  "metadata": {
    "colab": {
      "provenance": []
    },
    "kernelspec": {
      "name": "python3",
      "display_name": "Python 3"
    },
    "language_info": {
      "name": "python"
    }
  },
  "cells": [
    {
      "cell_type": "markdown",
      "source": [
        "# I. Docstrings."
      ],
      "metadata": {
        "id": "5qvkYXU42nND"
      }
    },
    {
      "cell_type": "markdown",
      "source": [
        "1. (2б) Що таке docstrings? Навіщо вони потрібні?"
      ],
      "metadata": {
        "id": "7VUggLjZ4NNb"
      }
    },
    {
      "cell_type": "markdown",
      "source": [
        "Docstring, від documentation string - це літерал string до функції, класу, модуля, пакету чи методу, який пояснює функціонал і спрощує розуміння коду іншими розробниками або програмами (якщо dosctring написані з дотриманням конвенцій і програми можуть їх обробити). Написану таким чином документацію також можна отримати через атрибут `.__doc__` або функцію help().    "
      ],
      "metadata": {
        "id": "_oqTO_30GlHj"
      }
    },
    {
      "cell_type": "markdown",
      "source": [
        "2. (2б) Створіть docstrings для функції, що розраховує різницю двох цілих чисел та повертає її."
      ],
      "metadata": {
        "id": "bRumAhtgG3jV"
      }
    },
    {
      "cell_type": "code",
      "source": [
        "\"\"\"Calculate difference of two integers.\n",
        "\n",
        "    Args:\n",
        "        minuend (int): The initial number.\n",
        "        subtrahend (int): The number to subtract.\n",
        "    Returns:\n",
        "        int: The difference between minuend and subtrahend.\n",
        "    Example:\n",
        "        >>> difference(10, 6)\n",
        "        4\n",
        "\"\"\""
      ],
      "metadata": {
        "id": "G_xCtwQGGkew",
        "colab": {
          "base_uri": "https://localhost:8080/",
          "height": 53
        },
        "outputId": "ed237452-d68e-4284-9446-9affa72437e1"
      },
      "execution_count": 163,
      "outputs": [
        {
          "output_type": "execute_result",
          "data": {
            "text/plain": [
              "'Calculate difference of two integers.\\n\\n    Args:\\n        minuend (int): The initial number.\\n        subtrahend (int): The number to subtract.\\n    Returns:\\n        int: The difference between minuend and subtrahend.\\n    Example:\\n        >>> difference(10, 6)\\n        4\\n'"
            ],
            "application/vnd.google.colaboratory.intrinsic+json": {
              "type": "string"
            }
          },
          "metadata": {},
          "execution_count": 163
        }
      ]
    },
    {
      "cell_type": "markdown",
      "source": [
        "3. (3б) Визначте функцію, що розраховує розраховує різницю двох цілих чисел та повертає її, використовуючи документацію з завдання 2."
      ],
      "metadata": {
        "id": "gibK8CjDHBfc"
      }
    },
    {
      "cell_type": "code",
      "execution_count": 33,
      "metadata": {
        "id": "wh5tMJgh0zer",
        "colab": {
          "base_uri": "https://localhost:8080/"
        },
        "outputId": "3c7e1609-ce1f-4a69-e848-56ef7d35271b"
      },
      "outputs": [
        {
          "output_type": "stream",
          "name": "stdout",
          "text": [
            "Help on function difference in module __main__:\n",
            "\n",
            "difference(minuend, subtrahend)\n",
            "    Calculate difference of two integers.\n",
            "    \n",
            "    Args:\n",
            "        minuend (int): The initial number.\n",
            "        subtrahend (int): The number to subtract.\n",
            "    Returns:\n",
            "        int: The difference between minuend and subtrahend.\n",
            "    Example:\n",
            "        >>> difference(10, 6)\n",
            "        4\n",
            "\n"
          ]
        }
      ],
      "source": [
        "def difference(minuend, subtrahend):\n",
        "    \"\"\"Calculate difference of two integers.\n",
        "\n",
        "    Args:\n",
        "        minuend (int): The initial number.\n",
        "        subtrahend (int): The number to subtract.\n",
        "    Returns:\n",
        "        int: The difference between minuend and subtrahend.\n",
        "    Example:\n",
        "        >>> difference(10, 6)\n",
        "        4\n",
        "    \"\"\"\n",
        "    return minuend - subtrahend\n",
        "\n",
        "help(difference)"
      ]
    },
    {
      "cell_type": "markdown",
      "source": [
        "4. (5б) Створіть docstring для функції, що перевіряє, чи є число простим. Увага: під час виклику функції ми очікуємо, що користувач(ка) може подати на вхід будь-який тип обʼєкту. У випадку, якщо на вході не підходящий тип даних, маємо кинути помилку."
      ],
      "metadata": {
        "id": "PI-mNDQNIDUm"
      }
    },
    {
      "cell_type": "code",
      "source": [
        "\"\"\"Check if an integer is a prime number by looking for divisors up to sqrt().\n",
        "\n",
        "    Args:\n",
        "        number (int): The integer to be tested for primality.\n",
        "    Returns:\n",
        "        bool: True if the integer is primal, False otherwise.\n",
        "    Raises:\n",
        "        TypeError: If 'number' is not an integer.\n",
        "    Example:\n",
        "        >>> is_primal(2)\n",
        "        True\n",
        "\"\"\""
      ],
      "metadata": {
        "id": "3nTbEkJ0I4Gn",
        "colab": {
          "base_uri": "https://localhost:8080/",
          "height": 53
        },
        "outputId": "e504e040-a618-449d-c60b-7d457ebd6d79"
      },
      "execution_count": 154,
      "outputs": [
        {
          "output_type": "execute_result",
          "data": {
            "text/plain": [
              "\"Check if an integer is a prime number by looking for divisors up to sqrt().\\n    \\n    Args:\\n        number (int): The integer to be tested for primality.\\n    Returns:\\n        bool: True if the integer is primal, False otherwise.\\n    Raises:\\n        TypeError: If 'number' is not an integer.\\n    Example: \\n        >>> is_primal(2)\\n        True   \\n\""
            ],
            "application/vnd.google.colaboratory.intrinsic+json": {
              "type": "string"
            }
          },
          "metadata": {},
          "execution_count": 154
        }
      ]
    },
    {
      "cell_type": "markdown",
      "source": [
        "5. (7б) Визначте функцію, яка перевіряє, чи є число простим, використовуючи документацію з завдання 4."
      ],
      "metadata": {
        "id": "OMRx9emvI4NM"
      }
    },
    {
      "cell_type": "code",
      "source": [
        "import math\n",
        "\n",
        "def is_primal(number):\n",
        "    \"\"\"Check if an integer is a prime number by looking for divisors up to sqrt().\n",
        "\n",
        "    Args:\n",
        "        number (int): The integer to be tested for primality.\n",
        "    Returns:\n",
        "        bool: True if the integer is primal, False otherwise.\n",
        "    Raises:\n",
        "        TypeError: If 'number' is not an integer.\n",
        "    Example:\n",
        "        >>> is_primal(2)\n",
        "        True\n",
        "    \"\"\"\n",
        "    if not (isinstance(number, int)):\n",
        "       raise TypeError(\"'number' should be integer.\")\n",
        "\n",
        "    if number == 2:\n",
        "        return True\n",
        "    if number < 2 or number % 2 == 0:\n",
        "        return False\n",
        "\n",
        "    for divisor in range(3, math.isqrt(number) + 1, 2):\n",
        "        if(number % divisor == 0):\n",
        "            return False\n",
        "    return True\n",
        "\n",
        "is_primal(29)"
      ],
      "metadata": {
        "id": "wONHC4OEJARD",
        "colab": {
          "base_uri": "https://localhost:8080/"
        },
        "outputId": "f15e840d-51fd-4490-a41c-1a4ddb3f1ff9"
      },
      "execution_count": 162,
      "outputs": [
        {
          "output_type": "execute_result",
          "data": {
            "text/plain": [
              "True"
            ]
          },
          "metadata": {},
          "execution_count": 162
        }
      ]
    },
    {
      "cell_type": "markdown",
      "source": [
        "6. (6б) Створіть docstring для функції, що повертає найдовший спільний префікс двох рядків не залежно від регістру. Обовʼязково включіть два приклади згідно формату."
      ],
      "metadata": {
        "id": "1r9WQ5Y9JULV"
      }
    },
    {
      "cell_type": "code",
      "source": [
        "\"\"\"Return the longest common prefix of two strings, case-insensetive.\n",
        "\n",
        "    Args:\n",
        "        str1 (str): First string.\n",
        "        str2 (str): Second string.\n",
        "    Returns:\n",
        "        str: The longest common prefix.\n",
        "    Raises:\n",
        "        TypeError: If argument can't be converted using str().\n",
        "    Examples:\n",
        "        >>> longest_common_prefix('summer', 'summary')\n",
        "        'summ'\n",
        "        >>> longest_common_prefix('abcdef', 'fedcba')\n",
        "        ''\n",
        "\"\"\""
      ],
      "metadata": {
        "id": "mqTHuBGsKY2V",
        "colab": {
          "base_uri": "https://localhost:8080/",
          "height": 70
        },
        "outputId": "30287c52-fb4a-4926-aca3-824167cf9967"
      },
      "execution_count": 155,
      "outputs": [
        {
          "output_type": "execute_result",
          "data": {
            "text/plain": [
              "\"Return the longest common prefix of two strings, case-insensetive.\\n\\n    Args:\\n        str1 (str): First string.\\n        str2 (str): Second string.\\n    Returns:\\n        str: The longest common prefix.\\n    Raises:\\n        TypeError: If argument can't be converted using str().\\n    Examples:\\n        >>> longest_common_prefix('summer', 'summary')\\n        'summ'\\n        >>> longest_common_prefix('abcdef', 'fedcba')\\n        ''\\n\""
            ],
            "application/vnd.google.colaboratory.intrinsic+json": {
              "type": "string"
            }
          },
          "metadata": {},
          "execution_count": 155
        }
      ]
    },
    {
      "cell_type": "markdown",
      "source": [
        "7. (9б) Реалізуйте функцію згідно документації із завдання 6, використовуючи її."
      ],
      "metadata": {
        "id": "ZVkQ4jo2KZrx"
      }
    },
    {
      "cell_type": "code",
      "source": [
        "def longest_common_prefix(str1, str2):\n",
        "    \"\"\"Return the longest common prefix of two strings, case-insensetive.\n",
        "\n",
        "    Args:\n",
        "        str1 (str): First string.\n",
        "        str2 (str): Second string.\n",
        "    Returns:\n",
        "        str: The longest common prefix.\n",
        "    Raises:\n",
        "        TypeError: If argument can't be converted using str().\n",
        "    Examples:\n",
        "        >>> longest_common_prefix('summer', 'summary')\n",
        "        'summ'\n",
        "        >>> longest_common_prefix('abcdef', 'fedcba')\n",
        "        ''\n",
        "    \"\"\"\n",
        "    try:\n",
        "        str1 = str(str1)\n",
        "        str2 = str(str2)\n",
        "    except TypeError:\n",
        "        raise TypeError ('Both arguments must be string or convertable to it.')\n",
        "\n",
        "    str1, str2 = str1.casefold(), str2.casefold()\n",
        "    min_len = min(len(str1), len(str2))\n",
        "    prefix = ''\n",
        "    for i in range(min_len):\n",
        "        if str1[i] != str2[i]:\n",
        "            return prefix\n",
        "        prefix += str1[i]\n",
        "    return prefix\n",
        "\n",
        "longest_common_prefix('summer', 'summary')"
      ],
      "metadata": {
        "id": "e1odBJATKd7L",
        "colab": {
          "base_uri": "https://localhost:8080/",
          "height": 36
        },
        "outputId": "c18f34c6-40d7-4daf-bbf8-bb8e996f5b01"
      },
      "execution_count": 164,
      "outputs": [
        {
          "output_type": "execute_result",
          "data": {
            "text/plain": [
              "'summ'"
            ],
            "application/vnd.google.colaboratory.intrinsic+json": {
              "type": "string"
            }
          },
          "metadata": {},
          "execution_count": 164
        }
      ]
    },
    {
      "cell_type": "markdown",
      "source": [
        "8. (6б) Створіть docstring для функції, що розраховує суму щомісячного платежу по єОселі."
      ],
      "metadata": {
        "id": "OXbxPfuZKlQb"
      }
    },
    {
      "cell_type": "code",
      "source": [
        "\"\"\"Calculate the monthly payment for a eOselya mortgage loan.\n",
        "\n",
        "    Use the following payment formula:\n",
        "        M = P * (r * (1 + r)^n) / ((1 + r)^n - 1)\n",
        "        Where 'M' is the monhtly payment, 'P' is the total loan sum,\n",
        "        'r' is the monthly interest rate, 'n' is loan term in months.\n",
        "    Args:\n",
        "        principal (Decimal): The loan amount in UAH.\n",
        "        annual (Decimal): The annual interest rate in %.\n",
        "        term (int): The loan term in years. Must be no longer than 20 years.\n",
        "    Returns:\n",
        "        Decimal: Montly payment for the mortgage in UAH.\n",
        "    Raises:\n",
        "        ValueError: If the loan term exceeds 20 years.\n",
        "        TypeError: If 'principal' cannot be converted to Decimal.\n",
        "\"\"\""
      ],
      "metadata": {
        "id": "iFGckfs3KqHq",
        "colab": {
          "base_uri": "https://localhost:8080/",
          "height": 88
        },
        "outputId": "144fe785-18f4-42b9-a483-aa10eed1e894"
      },
      "execution_count": 61,
      "outputs": [
        {
          "output_type": "execute_result",
          "data": {
            "text/plain": [
              "\"Calculate the monthly payment for a eOselya mortgage loan.\\n\\n    Use the following payment formula:\\n        M = P * (r * (1 + r)^n) / ((1 + r)^n - 1)\\n        Where 'M' is the monhtly payment, 'P' is the total loan sum,\\n        'r' is the monthly interest rate, 'n' is loan term in months.  \\n    Args: \\n        principal (Decimal): The loan amount in UAH.\\n        annual (Decimal): The annual interest rate in %.\\n        term (int): The loan term in years. Must be no longer than 20 years.\\n    Returns: \\n        Decimal: Montly payment for the mortgage in UAH. \\n    Raises:\\n        ValueError: If the loan term exceeds 20 years.\\n        TypeError: If 'principal' cannot be converted to Decimal.\\n\""
            ],
            "application/vnd.google.colaboratory.intrinsic+json": {
              "type": "string"
            }
          },
          "metadata": {},
          "execution_count": 61
        }
      ]
    },
    {
      "cell_type": "markdown",
      "source": [
        "9. (12б) Використовуючи документацію із завдання 8, реалізуйте відповідну функцію."
      ],
      "metadata": {
        "id": "xQjsUPhAOUq1"
      }
    },
    {
      "cell_type": "code",
      "source": [
        "from decimal import Decimal\n",
        "\n",
        "def montly_payment(principal, annual, term):\n",
        "    \"\"\"Calculate the monthly payment for a eOselya mortgage loan.\n",
        "\n",
        "    Use the following payment formula:\n",
        "        M = P * (r * (1 + r)^n) / ((1 + r)^n - 1)\n",
        "        Where 'M' is the monhtly payment, 'P' is the total loan sum,\n",
        "        'r' is the monthly interest rate, 'n' is loan term in months.\n",
        "    Args:\n",
        "        principal (Decimal): The loan amount in UAH.\n",
        "        annual (Decimal): The annual interest rate in %.\n",
        "        term (int): The loan term in years. Must be no longer than 20 years.\n",
        "    Returns:\n",
        "        Decimal: Montly payment for the mortgage in UAH.\n",
        "    Raises:\n",
        "        ValueError: If the loan term exceeds 20 years.\n",
        "        TypeError: If 'principal' cannot be converted to Decimal.\n",
        "    \"\"\"\n",
        "    try:\n",
        "        principal = Decimal(principal)\n",
        "    except TypeError:\n",
        "        raise TypeError(\"Amount of loan must be convertable to Decimal.\")\n",
        "    if term > 20:\n",
        "        raise ValueError(\"Loan term can't exceed 20 years.\")\n",
        "    monthly_rate = annual / Decimal('100') / Decimal('12')\n",
        "    months = term * 12\n",
        "    monthly_payment = principal * (monthly_rate * (1 + monthly_rate) ** months) / ((1 + monthly_rate) ** months - 1)\n",
        "    return monthly_payment\n",
        "\n",
        "montly_payment(Decimal('2001500'), 7, 15)"
      ],
      "metadata": {
        "id": "H3_FpZW7OUAA",
        "colab": {
          "base_uri": "https://localhost:8080/"
        },
        "outputId": "bab5efd1-cbbd-4f1b-b213-0734fde6aafc"
      },
      "execution_count": 156,
      "outputs": [
        {
          "output_type": "execute_result",
          "data": {
            "text/plain": [
              "Decimal('17990.04784111132503942300256')"
            ]
          },
          "metadata": {},
          "execution_count": 156
        }
      ]
    },
    {
      "cell_type": "markdown",
      "source": [
        "# II. Errors and exceptions handling."
      ],
      "metadata": {
        "id": "uPyZWU1r2q-s"
      }
    },
    {
      "cell_type": "markdown",
      "source": [
        "10. (3б) Реалізуйте функцію, яка отримує значення зі словника за ключем та повертає його, а за умови відсутності ключа відловлює KeyError."
      ],
      "metadata": {
        "id": "GJAVQ9SJbARP"
      }
    },
    {
      "cell_type": "code",
      "source": [
        "def get_by_key_eafp(dict, key):\n",
        "    \"\"\"Return value from dictionary by key, or None if it's absent.\"\"\"\n",
        "    try:\n",
        "        return dict[key]\n",
        "    except KeyError:\n",
        "        return None\n",
        "\n",
        "print(get_by_key_eafp({},1))"
      ],
      "metadata": {
        "id": "01YDTgxI4IK7",
        "colab": {
          "base_uri": "https://localhost:8080/"
        },
        "outputId": "d97b6f8c-1353-402e-906e-5a8d31b1241c"
      },
      "execution_count": 157,
      "outputs": [
        {
          "output_type": "stream",
          "name": "stdout",
          "text": [
            "None\n"
          ]
        }
      ]
    },
    {
      "cell_type": "markdown",
      "source": [
        "11. (3б) Реалізуйте функцію із завдання 10 без відловлювання помилки, однак за допомогою конструкції if-else."
      ],
      "metadata": {
        "id": "IwpB9_4Jbttd"
      }
    },
    {
      "cell_type": "code",
      "source": [
        "def get_by_key_lbyl(dict, key):\n",
        "    \"\"\"Return value from dictionary by key, or None if it's absent.\"\"\"\n",
        "    if key in dict:\n",
        "        return dict[key]\n",
        "    else:\n",
        "        return None\n",
        "\n",
        "print(get_by_key_lbyl({},'nokey'))"
      ],
      "metadata": {
        "id": "qSEr1bCQbtC1",
        "colab": {
          "base_uri": "https://localhost:8080/"
        },
        "outputId": "f0e66dae-35a7-4b57-c55d-bcc08b567ed1"
      },
      "execution_count": 158,
      "outputs": [
        {
          "output_type": "stream",
          "name": "stdout",
          "text": [
            "None\n"
          ]
        }
      ]
    },
    {
      "cell_type": "markdown",
      "source": [
        "12. (3б) Реалізуйте функцію з завдання 10, використовуючи метод словника, який дозволяє зробити операцію навіть без if-else."
      ],
      "metadata": {
        "id": "H4iygP7xb7xB"
      }
    },
    {
      "cell_type": "code",
      "source": [
        "def get_by_key(dict,key):\n",
        "    \"\"\"Return value from dictionary by key, or None if it's absent.\"\"\"\n",
        "    return dict.get(key)\n",
        "\n",
        "get_by_key({},\"key\")"
      ],
      "metadata": {
        "id": "IjFPCfCXcFMF"
      },
      "execution_count": 101,
      "outputs": []
    },
    {
      "cell_type": "markdown",
      "source": [
        "13. (5б) Визначте функцію, яка обробляє значення, введене користувачем з терміналу, приводячи його до цілого числа. Використайте відловлення відповідної помилки. Наприклад, людина має ввести свій вік."
      ],
      "metadata": {
        "id": "V7UB77SvcFiH"
      }
    },
    {
      "cell_type": "code",
      "source": [
        "def get_user_age_eafp():\n",
        "    \"\"\"Take user input (their age) and return the value as an integer.\"\"\"\n",
        "    age_input = input(\"Enter your age: \")\n",
        "    try:\n",
        "        age = int(age_input)\n",
        "    except (TypeError, ValueError):\n",
        "        print(\"Invalid input: age can't be converted to integer.\")\n",
        "        return None\n",
        "    if age < 0:\n",
        "        print(\"Invalid input: age cannot be negative.\")\n",
        "        return None\n",
        "    return age\n",
        "\n",
        "a = get_user_age_eafp()\n",
        "print(a)"
      ],
      "metadata": {
        "id": "OEkZInsUce-g",
        "colab": {
          "base_uri": "https://localhost:8080/"
        },
        "outputId": "7864c1d1-7368-4b52-f707-6febf4533681"
      },
      "execution_count": 160,
      "outputs": [
        {
          "output_type": "stream",
          "name": "stdout",
          "text": [
            "Enter your age: -1\n",
            "Invalid input: age cannot be negative.\n",
            "None\n"
          ]
        }
      ]
    },
    {
      "cell_type": "markdown",
      "source": [
        "14. (5б) Визначте функцію з завдання 13, де використайте конструкцію if-else замість відловдення помилки."
      ],
      "metadata": {
        "id": "nvQo1fzjcfYI"
      }
    },
    {
      "cell_type": "code",
      "source": [
        "def get_user_age_lbyl():\n",
        "    \"\"\"Take user input (their age) and return the value as an integer.\"\"\"\n",
        "    age_input = input(\"Enter your age: \")\n",
        "    if not age_input.isdigit():\n",
        "        print(\"Invalid input: age can't contain anything but digits.\")\n",
        "        return None\n",
        "    else:\n",
        "        age = int(age_input)\n",
        "        return age\n",
        "\n",
        "a = get_user_age_lbyl()\n",
        "print(a)"
      ],
      "metadata": {
        "id": "bQF8LazacpUI",
        "colab": {
          "base_uri": "https://localhost:8080/"
        },
        "outputId": "632b1d4a-92e2-45d3-ae50-90784c8e1ef8"
      },
      "execution_count": 161,
      "outputs": [
        {
          "output_type": "stream",
          "name": "stdout",
          "text": [
            "Enter your age: -5\n",
            "Invalid input: age can't contain anything but digits.\n",
            "None\n"
          ]
        }
      ]
    },
    {
      "cell_type": "markdown",
      "source": [
        "15. (5б) Визначте функцію з завдання 13, враховуючи додаткове обмеження, що число має бути у діапазоні від 18 до 120 (повнолітня людина). Відловіть відповідні типи помилок."
      ],
      "metadata": {
        "id": "l4RoecD_dIj5"
      }
    },
    {
      "cell_type": "code",
      "source": [
        "def get_adult_user_age():\n",
        "    \"\"\"Take user input (their age) and return the value as an integer.\"\"\"\n",
        "    age_input = input(\"Enter your age: \")\n",
        "    try:\n",
        "        age = int(age_input)\n",
        "    except (TypeError, ValueError):\n",
        "        print(\"Invalid input: age can't be converted to integer.\")\n",
        "        return None\n",
        "    if age < 18 or age > 120:\n",
        "        print(\"You must be over 18 to proceed.\")\n",
        "        return None\n",
        "    return age\n",
        "\n",
        "\n",
        "a = get_adult_user_age()\n",
        "print(a)"
      ],
      "metadata": {
        "id": "SeHKtFGTdiyD",
        "colab": {
          "base_uri": "https://localhost:8080/"
        },
        "outputId": "2320f337-5d4c-4c49-ad97-cbde6d0c754a"
      },
      "execution_count": 123,
      "outputs": [
        {
          "output_type": "stream",
          "name": "stdout",
          "text": [
            "Enter your age: 16\n",
            "You must be over 18 to proceed.\n",
            "None\n"
          ]
        }
      ]
    },
    {
      "cell_type": "markdown",
      "source": [
        "16. (12б) Напишіть код, який би генерував максимальну кількість помилок різного типу."
      ],
      "metadata": {
        "id": "MAn64KyreVC4"
      }
    },
    {
      "cell_type": "code",
      "source": [
        "# ZeroDivisionError\n",
        "try:\n",
        "    l = 2 / 0\n",
        "except ZeroDivisionError as e:\n",
        "    print(f\"ZeroDivisionError: {e}\")\n",
        "\n",
        "# TypeError\n",
        "i = \"str\"\n",
        "try:\n",
        "   i += 5\n",
        "except TypeError as e:\n",
        "   print(f\"TypeError: {e}.\")\n",
        "\n",
        "# ValueError\n",
        "try:\n",
        "    number = int(\"NaUKMA\")\n",
        "except ValueError as e:\n",
        "    print(f\"ValueError: {e}\")\n",
        "\n",
        "# IndexError\n",
        "try:\n",
        "    lst = [1, 2, 3]\n",
        "    print(lst[5])\n",
        "except IndexError as e:\n",
        "    print(f\"IndexError: {e}\")\n",
        "\n",
        "# KeyError\n",
        "try:\n",
        "    dictionary = {}\n",
        "    print(dictionary[5])\n",
        "except KeyError as e:\n",
        "    print(f\"KeyError: {e}\")\n",
        "\n",
        "# AttributeError\n",
        "try:\n",
        "    none_type = None\n",
        "    none_type.method()\n",
        "except AttributeError as e:\n",
        "    print(f\"AttributeError: {e}\")\n",
        "\n",
        "# NameError\n",
        "try:\n",
        "    username = user[2:3]\n",
        "except NameError as e:\n",
        "    print(f\"NameError: {e}\")\n",
        "\n",
        "# FileNotFoundError\n",
        "try:\n",
        "    with open(\"file.txt\", 'r') as file:\n",
        "        content = file.read()\n",
        "except FileNotFoundError as e:\n",
        "    print(f\"FileNotFoundError: {e}\")\n",
        "\n",
        "# AssertionError\n",
        "try:\n",
        "    assert 1 == 2, \"1 is not equal to 2\"\n",
        "except AssertionError as e:\n",
        "    print(f\"AssertionError: {e}\")\n",
        "\n",
        "# ImportError\n",
        "try:\n",
        "    import module\n",
        "except ImportError as e:\n",
        "    print(f\"ImportError: {e}\")\n",
        "\n",
        "# UnicodeError\n",
        "    try:\n",
        "        byte_string = b'\\x80'  # UnicodeError: invalid start byte\n",
        "        decoded_string = byte_string.decode('utf-8')\n",
        "    except UnicodeError as e:\n",
        "        print(f\"UnicodeError: {e}\")"
      ],
      "metadata": {
        "id": "DzuV3uQpeb-U",
        "colab": {
          "base_uri": "https://localhost:8080/"
        },
        "outputId": "b6194246-1282-4080-fe0d-b0d32436d2ea"
      },
      "execution_count": 176,
      "outputs": [
        {
          "output_type": "stream",
          "name": "stdout",
          "text": [
            "ZeroDivisionError: division by zero\n",
            "TypeError: can only concatenate str (not \"int\") to str.\n",
            "ValueError: invalid literal for int() with base 10: 'NaUKMA'\n",
            "IndexError: list index out of range\n",
            "KeyError: 5\n",
            "AttributeError: 'NoneType' object has no attribute 'method'\n",
            "NameError: name 'user' is not defined\n",
            "FileNotFoundError: [Errno 2] No such file or directory: 'file.txt'\n",
            "AssertionError: 1 is not equal to 2\n",
            "ImportError: No module named 'module'\n",
            "UnicodeError: 'utf-8' codec can't decode byte 0x80 in position 0: invalid start byte\n"
          ]
        }
      ]
    },
    {
      "cell_type": "markdown",
      "source": [
        "17. (12б) Наскільки це можливо, виправте код із завдання 16."
      ],
      "metadata": {
        "id": "5VFbEKQkecMz"
      }
    },
    {
      "cell_type": "code",
      "source": [
        "# ZeroDivisionError: not dividing by 0\n",
        "try:\n",
        "    l = 2 / 1\n",
        "except ZeroDivisionError as e:\n",
        "    print(f\"ZeroDivisionError: {e}\")\n",
        "\n",
        "# TypeError: converting 5 to string before concatenating\n",
        "i = \"str\"\n",
        "try:\n",
        "   i += str(5)\n",
        "except TypeError as e:\n",
        "   print(f\"TypeError: {e}.\")\n",
        "\n",
        "# ValueError: proper string, convertable to integer\n",
        "try:\n",
        "    number = int(\"142\")\n",
        "except ValueError as e:\n",
        "    print(f\"ValueError: {e}\")\n",
        "\n",
        "# IndexError: proper index\n",
        "try:\n",
        "    lst = [1, 2, 3]\n",
        "    print(lst[-1])\n",
        "except IndexError as e:\n",
        "    print(f\"IndexError: {e}\")\n",
        "\n",
        "# KeyError: .get() instead of []\n",
        "try:\n",
        "    dictionary = {}\n",
        "    print(dictionary.get(5))\n",
        "except KeyError as e:\n",
        "    print(f\"KeyError: {e}\")\n",
        "\n",
        "# AttributeError: use existing attribute\n",
        "try:\n",
        "    none_type = \"rrr\"\n",
        "    none_type.find(\"r\")\n",
        "except AttributeError as e:\n",
        "    print(f\"AttributeError: {e}\")\n",
        "\n",
        "# NameError: define reference before usage\n",
        "try:\n",
        "    user = \"username\"\n",
        "    username = user[2:3]\n",
        "except NameError as e:\n",
        "    print(f\"NameError: {e}\")\n",
        "\n",
        "# AssertionError: write proper assertion\n",
        "try:\n",
        "    assert 1 == 1, \"1 is not equal\"\n",
        "except AssertionError as e:\n",
        "    print(f\"AssertionError: {e}\")\n",
        "\n",
        "# ImportError: import existing module\n",
        "try:\n",
        "    import datetime\n",
        "except ImportError as e:\n",
        "    print(f\"ImportError: {e}\")\n",
        "\n",
        "# UnicodeError: define proper bytestring\n",
        "    try:\n",
        "        byte_string = b'\\xe2\\x82\\xac'\n",
        "        decoded_string = byte_string.decode('utf-8')\n",
        "    except UnicodeError as e:\n",
        "        print(f\"UnicodeError: {e}\")\n"
      ],
      "metadata": {
        "id": "peMOBz9ieiur",
        "colab": {
          "base_uri": "https://localhost:8080/"
        },
        "outputId": "9d897433-017f-4b96-9284-bc4a512c815a"
      },
      "execution_count": 177,
      "outputs": [
        {
          "output_type": "stream",
          "name": "stdout",
          "text": [
            "3\n",
            "None\n"
          ]
        }
      ]
    }
  ]
}