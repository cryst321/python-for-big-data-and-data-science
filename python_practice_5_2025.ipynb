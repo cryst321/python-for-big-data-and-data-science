{
  "nbformat": 4,
  "nbformat_minor": 0,
  "metadata": {
    "colab": {
      "provenance": []
    },
    "kernelspec": {
      "name": "python3",
      "display_name": "Python 3"
    },
    "language_info": {
      "name": "python"
    }
  },
  "cells": [
    {
      "cell_type": "markdown",
      "source": [
        "# I. OOP"
      ],
      "metadata": {
        "id": "5qV_sehzFCTp"
      }
    },
    {
      "cell_type": "markdown",
      "source": [
        "1. (6б). Створіть клас Building, додайте три атрибути, один з яких має значення за замовчуванням та два методи на свій розсуд."
      ],
      "metadata": {
        "id": "tx_U_hOALyfg"
      }
    },
    {
      "cell_type": "code",
      "source": [
        "from datetime import datetime\n",
        "\n",
        "class Building():\n",
        "  def __init__(self,color,year_built,num_floors=1):\n",
        "    self.color = color\n",
        "    self.year_built = year_built\n",
        "    self.num_floors = num_floors\n",
        "\n",
        "  def paint(self,newcolor):\n",
        "    self.color=newcolor\n",
        "    print(f\"Building painted to {newcolor}\")\n",
        "\n",
        "  def age(self):\n",
        "    current_year = datetime.now().year\n",
        "    return current_year - self.year_built"
      ],
      "metadata": {
        "id": "-Vf895KaL88N"
      },
      "execution_count": 34,
      "outputs": []
    },
    {
      "cell_type": "markdown",
      "source": [
        "2. (2б). Створіть два обʼєкти цього класу, де один з обʼєктів створюється із дефолтним значенням атрибуту. На одному обʼєкті отримайте значення його атрибуту, а на іншому викличте один з його методів."
      ],
      "metadata": {
        "id": "X_UlOMB0L93w"
      }
    },
    {
      "cell_type": "code",
      "source": [
        "cottage = Building(\"red\",1994,2)\n",
        "garage = Building(\"grey\",2015)\n",
        "\n",
        "print(cottage.age())\n",
        "print(garage.num_floors)"
      ],
      "metadata": {
        "id": "7gBu0ESOMCpG",
        "colab": {
          "base_uri": "https://localhost:8080/"
        },
        "outputId": "0645c126-ea94-46b5-9e0f-0dff424bf5ae"
      },
      "execution_count": 35,
      "outputs": [
        {
          "output_type": "stream",
          "name": "stdout",
          "text": [
            "31\n",
            "1\n"
          ]
        }
      ]
    },
    {
      "cell_type": "markdown",
      "source": [
        "3. (5б). Створіть клас, де атрибути мають різні рівні доступу. Спробуйте отримати їхні значення та опишіть результати."
      ],
      "metadata": {
        "id": "HoqSCZt1MHn5"
      }
    },
    {
      "cell_type": "code",
      "source": [
        "class Person():\n",
        "  def __init__(self,name,age,weight):\n",
        "    self.name = name # public (default)\n",
        "    self._age = age # protected\n",
        "    self.__weight = weight # private\n",
        "\n",
        "human = Person(\"Ivan\",20,75)\n",
        "print(human.name) # allowed\n",
        "print(human._age) # possible but discouraged\n",
        "# print(human.__weight) not possible because of name mangling\n",
        "print(human._Person__weight) # discouraged"
      ],
      "metadata": {
        "id": "r9b3vJxBMSPV",
        "colab": {
          "base_uri": "https://localhost:8080/"
        },
        "outputId": "9f7e638c-7a75-40b7-a51c-a0872ee1f578"
      },
      "execution_count": 36,
      "outputs": [
        {
          "output_type": "stream",
          "name": "stdout",
          "text": [
            "Ivan\n",
            "20\n",
            "75\n"
          ]
        }
      ]
    },
    {
      "cell_type": "markdown",
      "source": [
        "4. (7б). Як ви розумієте термін self? Для чого використовується метод __init __?"
      ],
      "metadata": {
        "id": "5op2m2vgMSkZ"
      }
    },
    {
      "cell_type": "markdown",
      "source": [
        "self - посилання на поточний екземпляр класу. Насправді замість self може бути будь-який інший ідентифікатор, але він має фігурувати першим аргументом в методах екземплярів класу\n",
        "\n",
        "`__init__` - конструктор класу, який ініціалізує атрибути об'єкта. автоматично викликається після його створення"
      ],
      "metadata": {
        "id": "DyiPqNRvMasx"
      }
    },
    {
      "cell_type": "markdown",
      "source": [
        "5. (9б). Створіть клас 3D-фігура без атрибутів, з методом get_volume для отримання об'єму фігури, що повертає 0 та __add __, який приймає self та other в якості аргументів, а повертає суму об'ємів 3d-фігур self та other."
      ],
      "metadata": {
        "id": "-6X8EGfjMd2y"
      }
    },
    {
      "cell_type": "code",
      "source": [
        "class Shape3D():\n",
        "  def get_volume(self):\n",
        "    return 0\n",
        "  def __add__(self,other):\n",
        "    return self.get_volume() + other.get_volume()\n"
      ],
      "metadata": {
        "id": "4rvO_wYUMaEr"
      },
      "execution_count": 38,
      "outputs": []
    },
    {
      "cell_type": "markdown",
      "source": [
        "6. (11б). Створіть 2 дочірніх класи від 3d-фігура: Циліндр та Куб, які мають атрибути, необхідні для розрахунку об'єму. Визначте метод get_volume в кожному з них так, щоби вони розраховували об'єм у залежності від формули для кожного типу фігури. Створіть обʼєкт класу Циліндр та обʼєкт класу Куб. Виконайте операцію суми за допомогою оператора + між ними, аби знайти сумарний об'єм."
      ],
      "metadata": {
        "id": "SFcKnnv5Mo_z"
      }
    },
    {
      "cell_type": "code",
      "source": [
        "import math\n",
        "\n",
        "class Cylinder(Shape3D):\n",
        "  def __init__(self,radius,height):\n",
        "    self.radius = radius\n",
        "    self.height = height\n",
        "\n",
        "  def get_volume(self):\n",
        "    return math.pi * self.radius ** 2 * self.height\n",
        "\n",
        "class Cube(Shape3D):\n",
        "  def __init__(self,edge):\n",
        "    self.edge = edge\n",
        "\n",
        "  def get_volume(self):\n",
        "    return self.edge ** 3\n",
        "\n",
        "cylinder = Cylinder(2,5)\n",
        "cube = Cube(4)\n",
        "\n",
        "print(cylinder + cube)\n"
      ],
      "metadata": {
        "id": "H3GVNr69Muf3",
        "colab": {
          "base_uri": "https://localhost:8080/"
        },
        "outputId": "d18a504b-d511-4c69-e9ab-4c6219f651e4"
      },
      "execution_count": 39,
      "outputs": [
        {
          "output_type": "stream",
          "name": "stdout",
          "text": [
            "126.83185307179586\n"
          ]
        }
      ]
    },
    {
      "cell_type": "markdown",
      "source": [
        "7. (3б). Продемонструйте різницю між isinstance та issubclass."
      ],
      "metadata": {
        "id": "HCvR206YMvLK"
      }
    },
    {
      "cell_type": "code",
      "source": [
        "print(isinstance(cube,Shape3D)) # checks if object belongs to a class\n",
        "print(issubclass(Cube,Shape3D)) # both arguments are classes, checks if a class is a subclass of another"
      ],
      "metadata": {
        "id": "L_V1bBvDM0GN",
        "colab": {
          "base_uri": "https://localhost:8080/"
        },
        "outputId": "7886abfe-f916-4273-9f4c-4649723f1113"
      },
      "execution_count": 40,
      "outputs": [
        {
          "output_type": "stream",
          "name": "stdout",
          "text": [
            "True\n",
            "True\n"
          ]
        }
      ]
    },
    {
      "cell_type": "markdown",
      "source": [
        "8. (13б). Створіть клас EWallet з приватними атрибутами balance та id. Реалізуйте методи поповнення та зняття коштів, забезпечивши належну інкапсуляцію. Підказка: використовуйте декоратори property та setter."
      ],
      "metadata": {
        "id": "jjsaBZ-iM0Qq"
      }
    },
    {
      "cell_type": "code",
      "source": [
        "class EWallet():\n",
        "  def __init__(self,balance,id):\n",
        "    self.__balance = balance\n",
        "    self.__id = id\n",
        "\n",
        "  @property\n",
        "  def balance(self):\n",
        "   return self.__balance\n",
        "\n",
        "  @balance.setter\n",
        "  def deposit(self, amount):    # depositing money\n",
        "        if amount > 0:\n",
        "            self.__balance += amount\n",
        "            print(f\"Deposited: {amount}. New balance:\",self.balance)\n",
        "        else:\n",
        "            print(\"Invalid sum for deposit\")\n",
        "\n",
        "  def withdraw(self, amount):     # withrawing money\n",
        "        if amount > 0 and amount <= self.__balance:\n",
        "            self.__balance -= amount\n",
        "            print(f\"Withdrawn: {amount}. New balance: {self.__balance}\")\n",
        "        elif amount > self.__balance:\n",
        "            print(\"Insufficient balance\")\n",
        "        else:\n",
        "            print(\"Invalid sum for withdrawal\")\n",
        "\n",
        "\n",
        "  @property\n",
        "  def id(self):\n",
        "   return self.__id\n",
        "\n",
        "wallet = EWallet(1000,123)\n",
        "wallet.deposit = 1000\n",
        "wallet.withdraw(500)\n",
        "wallet.withdraw(2000)"
      ],
      "metadata": {
        "id": "xCvZ7lh8M7YA",
        "colab": {
          "base_uri": "https://localhost:8080/"
        },
        "outputId": "b8c9db9c-162e-4824-ca1f-2df27085a313"
      },
      "execution_count": 41,
      "outputs": [
        {
          "output_type": "stream",
          "name": "stdout",
          "text": [
            "Deposited: 1000. New balance: 2000\n",
            "Withdrawn: 500. New balance: 1500\n",
            "Insufficient balance\n"
          ]
        }
      ]
    },
    {
      "cell_type": "markdown",
      "source": [
        "9. (11б). Створіть клас ShoppingCart, який містить список об'єктів типу Item. Реалізуйте методи для додавання айтемів, їх видалення та відображення списку айтемів."
      ],
      "metadata": {
        "id": "tIzL2SJTM8ft"
      }
    },
    {
      "cell_type": "code",
      "source": [
        "class Item():\n",
        "  def __init__(self,name,amount):\n",
        "    self._name = name\n",
        "    self._amount = amount\n",
        "\n",
        "  def __str__(self):\n",
        "    return(f\" [{self._name} : {str(self._amount)}] \")\n",
        "\n",
        "class ShoppingCart():\n",
        "  def __init__(self,items=[]):\n",
        "    self._items=items\n",
        "\n",
        "  def add_item(self,item): # add\n",
        "    if(isinstance(item, Item)):\n",
        "      self._items.append(item)\n",
        "    else:\n",
        "      print(\"Can't add non-item to the cart.\")\n",
        "\n",
        "  def remove_item(self,index=0): # remove\n",
        "    if(self._items):\n",
        "      del self._items[index]\n",
        "    else:\n",
        "      print(\"Cart is already empty.\")\n",
        "\n",
        "  def __str__(self): # display\n",
        "    return \"Contents of shopping cart:\" + \" \".join((str(item) for item in self._items))\n",
        "\n",
        "\n",
        "cart = ShoppingCart(list((Item(\"apple\",3),Item(\"milk\",1),Item(\"cucumber\",5)))) #test\n",
        "print(cart)\n",
        "cart.add_item(Item(\"potato\",7))\n",
        "cart.remove_item()\n",
        "cart.add_item(47)\n",
        "print(cart)\n",
        "\n",
        "\n",
        "\n",
        ""
      ],
      "metadata": {
        "id": "HWxfJKLtNAUZ",
        "colab": {
          "base_uri": "https://localhost:8080/"
        },
        "outputId": "0140a247-da14-4990-f05b-80c8c39a5a35"
      },
      "execution_count": 42,
      "outputs": [
        {
          "output_type": "stream",
          "name": "stdout",
          "text": [
            "Contents of shopping cart: [apple : 3]   [milk : 1]   [cucumber : 5] \n",
            "Can't add non-item to the cart.\n",
            "Contents of shopping cart: [milk : 1]   [cucumber : 5]   [potato : 7] \n"
          ]
        }
      ]
    },
    {
      "cell_type": "markdown",
      "source": [
        "10. (13б). Створіть клас Vehicle з атрибутами brand (manufacturer) та production_age. Створіть ще один клас Engine з такими атрибутами, як type (ex. petrol) та size (volume, litres). Створіть клас Car, який успадковує обидва класи Vehicle та Engine. Продемонструйте використання множинної спадковості, створивши обʼєкт класу Car та отримавши mro для цього класу."
      ],
      "metadata": {
        "id": "lmV8pAwwNIqu"
      }
    },
    {
      "cell_type": "code",
      "source": [
        "class Vehicle():\n",
        "  def __init__(self,brand,production_age):\n",
        "    self.brand = brand\n",
        "    self.production_age = production_age\n",
        "\n",
        "class Engine():\n",
        "  def __init__(self,type,size):\n",
        "    self.type = type\n",
        "    self.size = size\n",
        "\n",
        "class Car(Vehicle,Engine):\n",
        "  def __init__(self,brand,production_age,type,size):\n",
        "    Vehicle.__init__(self, brand, production_age)\n",
        "    Engine.__init__(self, type, size)\n",
        "\n",
        "car = Car(\"Nissan\",2012,\"petrol\",2.0) # instantiating\n",
        "print(car.__class__.mro()) # multiple inheritance"
      ],
      "metadata": {
        "id": "R49grKlWNPeN",
        "colab": {
          "base_uri": "https://localhost:8080/"
        },
        "outputId": "4d22c690-61f0-442a-ef1c-b1c12d549130"
      },
      "execution_count": 46,
      "outputs": [
        {
          "output_type": "stream",
          "name": "stdout",
          "text": [
            "[<class '__main__.Car'>, <class '__main__.Vehicle'>, <class '__main__.Engine'>, <class 'object'>]\n"
          ]
        }
      ]
    },
    {
      "cell_type": "markdown",
      "source": [
        "# II. Iterator"
      ],
      "metadata": {
        "id": "dIJyUiNBFG8G"
      }
    },
    {
      "cell_type": "markdown",
      "source": [
        "11. (4б). Визначте рядок(str) з 4ма різними за значенням символами. Створіть ітератор на основі цього рядка. Викличте 5 разів функцію next на ітераторі, 4ри перших з них огорніть у ф-цію print()."
      ],
      "metadata": {
        "id": "13vsm0NyKIzL"
      }
    },
    {
      "cell_type": "code",
      "source": [
        "string = \"abcd\"\n",
        "iterator = iter(string)\n",
        "\n",
        "print(next(iterator))\n",
        "print(next(iterator))\n",
        "print(next(iterator))\n",
        "print(next(iterator))\n",
        "next(iterator) # string only has 4 items"
      ],
      "metadata": {
        "id": "81ntabAkKuz-",
        "colab": {
          "base_uri": "https://localhost:8080/",
          "height": 245
        },
        "outputId": "f22d0d08-d567-4b0c-fda2-f01672220a42"
      },
      "execution_count": 47,
      "outputs": [
        {
          "output_type": "stream",
          "name": "stdout",
          "text": [
            "a\n",
            "b\n",
            "c\n",
            "d\n"
          ]
        },
        {
          "output_type": "error",
          "ename": "StopIteration",
          "evalue": "",
          "traceback": [
            "\u001b[0;31m---------------------------------------------------------------------------\u001b[0m",
            "\u001b[0;31mStopIteration\u001b[0m                             Traceback (most recent call last)",
            "\u001b[0;32m<ipython-input-47-b39f59917a55>\u001b[0m in \u001b[0;36m<cell line: 0>\u001b[0;34m()\u001b[0m\n\u001b[1;32m      6\u001b[0m \u001b[0mprint\u001b[0m\u001b[0;34m(\u001b[0m\u001b[0mnext\u001b[0m\u001b[0;34m(\u001b[0m\u001b[0miterator\u001b[0m\u001b[0;34m)\u001b[0m\u001b[0;34m)\u001b[0m\u001b[0;34m\u001b[0m\u001b[0;34m\u001b[0m\u001b[0m\n\u001b[1;32m      7\u001b[0m \u001b[0mprint\u001b[0m\u001b[0;34m(\u001b[0m\u001b[0mnext\u001b[0m\u001b[0;34m(\u001b[0m\u001b[0miterator\u001b[0m\u001b[0;34m)\u001b[0m\u001b[0;34m)\u001b[0m\u001b[0;34m\u001b[0m\u001b[0;34m\u001b[0m\u001b[0m\n\u001b[0;32m----> 8\u001b[0;31m \u001b[0mnext\u001b[0m\u001b[0;34m(\u001b[0m\u001b[0miterator\u001b[0m\u001b[0;34m)\u001b[0m \u001b[0;31m# string only has 4 items\u001b[0m\u001b[0;34m\u001b[0m\u001b[0;34m\u001b[0m\u001b[0m\n\u001b[0m",
            "\u001b[0;31mStopIteration\u001b[0m: "
          ]
        }
      ]
    },
    {
      "cell_type": "markdown",
      "source": [
        "А що якщо викликати цю ж функцію на рядку?"
      ],
      "metadata": {
        "id": "aekWHGXOLRsO"
      }
    },
    {
      "cell_type": "code",
      "source": [
        "next(\"lala\")  # str objects are iterable, not iterators"
      ],
      "metadata": {
        "id": "mxATGsErLV1i",
        "colab": {
          "base_uri": "https://localhost:8080/",
          "height": 141
        },
        "outputId": "93a08c73-b590-4b53-bf62-5642f67bf177"
      },
      "execution_count": 11,
      "outputs": [
        {
          "output_type": "error",
          "ename": "TypeError",
          "evalue": "'str' object is not an iterator",
          "traceback": [
            "\u001b[0;31m---------------------------------------------------------------------------\u001b[0m",
            "\u001b[0;31mTypeError\u001b[0m                                 Traceback (most recent call last)",
            "\u001b[0;32m<ipython-input-11-46db36648db3>\u001b[0m in \u001b[0;36m<cell line: 0>\u001b[0;34m()\u001b[0m\n\u001b[0;32m----> 1\u001b[0;31m \u001b[0mnext\u001b[0m\u001b[0;34m(\u001b[0m\u001b[0;34m\"lala\"\u001b[0m\u001b[0;34m)\u001b[0m  \u001b[0;31m# str objects are iterable, not iterators\u001b[0m\u001b[0;34m\u001b[0m\u001b[0;34m\u001b[0m\u001b[0m\n\u001b[0m",
            "\u001b[0;31mTypeError\u001b[0m: 'str' object is not an iterator"
          ]
        }
      ]
    },
    {
      "cell_type": "markdown",
      "source": [
        " 12. (5б). Опишіть своїми словами в одному реченні, як ви розумієте різницю між ітерабельними обʼєктами та ітераторами (можна на прикладі)."
      ],
      "metadata": {
        "id": "XwtMEopwJ4pH"
      }
    },
    {
      "cell_type": "markdown",
      "source": [
        "Ітератори (реалізують методи `.__next__()` та `.__iter__()`) - це об'єкти, що керують процесом ітерації, в той час як ітерабельні об'єкти (реалізують метод`.__iter__()`) тримають в собі дані, по яким проходить ітерація"
      ],
      "metadata": {
        "id": "-sHrODc3KFn8"
      }
    },
    {
      "cell_type": "markdown",
      "source": [
        "13. (11б). Створіть клас, що має визначений Iterator Protocol та при кожному виклику next повертає назву дня тижня, поки вони не вичерпаються. Зверніть увагу, що порядок має значення."
      ],
      "metadata": {
        "id": "E9qJWmNbK8Gl"
      }
    },
    {
      "cell_type": "code",
      "source": [
        "class WeekIterator():\n",
        "  def __init__(self):\n",
        "    self._days = [\"Monday\",\"Tuesday\",\"Wednesday\",\"Thursday\",\"Friday\",\"Saturday\",\"Sunday\"]\n",
        "    self._index = 0\n",
        "\n",
        "  def __iter__(self):\n",
        "    return self;\n",
        "\n",
        "  def __next__(self):\n",
        "    if(self._index<len(self._days)):\n",
        "      day = self._days[self._index]\n",
        "      self._index+=1\n",
        "      return day\n",
        "    else:\n",
        "      raise StopIteration\n",
        "\n",
        "weekiter = WeekIterator()\n",
        "for day in weekiter:\n",
        "  print(day)"
      ],
      "metadata": {
        "id": "cqx-g_RsLo6I",
        "colab": {
          "base_uri": "https://localhost:8080/"
        },
        "outputId": "237295bc-6f99-46f7-dff7-4914f4ad1380"
      },
      "execution_count": 49,
      "outputs": [
        {
          "output_type": "stream",
          "name": "stdout",
          "text": [
            "Monday\n",
            "Tuesday\n",
            "Wednesday\n",
            "Thursday\n",
            "Friday\n",
            "Saturday\n",
            "Sunday\n"
          ]
        }
      ]
    }
  ]
}